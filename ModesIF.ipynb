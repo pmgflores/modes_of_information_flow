{
 "cells": [
  {
   "cell_type": "markdown",
   "metadata": {
    "collapsed": false
   },
   "source": [
    "### Modes of Information Flow analysis code\n",
    "\n",
    "In the first part I upgrade dit package for Python. This package has many functions to compute measures for discrete information theory problems."
   ]
  },
  {
   "cell_type": "code",
   "execution_count": 56,
   "metadata": {
    "collapsed": false
   },
   "outputs": [
   ],
   "source": [
    "# Install the upgrade from git\n",
    "#!pip install --user --upgrade git+git://github.com/dit/dit.git#egg=dit"
   ]
  },
  {
   "cell_type": "markdown",
   "metadata": {
    "collapsed": false
   },
   "source": [
    "**Step 1**\n",
    "\n",
    "To work with this code correctly we need to import all the packages needed in Python. We also load the dataset which contains time series constructed as the average of the emotions expressed on Twitter in time slots of five minutes during the 24 hours after the earthquake, therefore, every time series has 288 values. Because we are using a package for discrete information theory (dit) the time series where dichotomized, the criteria used was 1 was assigned for values greater than the median, and 0 otherwise for each time series."
   ]
  },
  {
   "cell_type": "code",
   "execution_count": 57,
   "metadata": {
    "collapsed": false
   },
   "outputs": [
   ],
   "source": [
    "# Import the packages numpy, matplotlib, dit, collections, and pandas needed to run the code\n",
    "import numpy as np\n",
    "import pandas as pd\n",
    "import matplotlib.pyplot as plt\n",
    "%matplotlib inline\n",
    "\n",
    "from collections import namedtuple\n",
    "from itertools import permutations\n",
    "\n",
    "import dit\n",
    "from dit.inference import binned, dist_from_timeseries\n",
    "from dit.multivariate import total_correlation as I, intrinsic_total_correlation as IMI\n",
    "\n",
    "dit.ditParams['repr.print'] = True"
   ]
  },
  {
   "cell_type": "code",
   "execution_count": 58,
   "metadata": {
    "collapsed": false
   },
   "outputs": [
    {
     "data": {
      "text/html": [
       "<div>\n",
       "<style scoped>\n",
       "    .dataframe tbody tr th:only-of-type {\n",
       "        vertical-align: middle;\n",
       "    }\n",
       "\n",
       "    .dataframe tbody tr th {\n",
       "        vertical-align: top;\n",
       "    }\n",
       "\n",
       "    .dataframe thead th {\n",
       "        text-align: right;\n",
       "    }\n",
       "</style>\n",
       "<table border=\"1\" class=\"dataframe\">\n",
       "  <thead>\n",
       "    <tr style=\"text-align: right;\">\n",
       "      <th></th>\n",
       "      <th>sadness</th>\n",
       "      <th>anger</th>\n",
       "      <th>fear</th>\n",
       "      <th>disgust</th>\n",
       "      <th>joy</th>\n",
       "      <th>sadness_dich</th>\n",
       "      <th>anger_dich</th>\n",
       "      <th>fear_dich</th>\n",
       "      <th>disgust_dich</th>\n",
       "      <th>joy_dich</th>\n",
       "    </tr>\n",
       "  </thead>\n",
       "  <tbody>\n",
       "    <tr>\n",
       "      <th>0</th>\n",
       "      <td>0.162649</td>\n",
       "      <td>0.137207</td>\n",
       "      <td>0.065900</td>\n",
       "      <td>0.014342</td>\n",
       "      <td>0.178080</td>\n",
       "      <td>1</td>\n",
       "      <td>1</td>\n",
       "      <td>1</td>\n",
       "      <td>0</td>\n",
       "      <td>1</td>\n",
       "    </tr>\n",
       "    <tr>\n",
       "      <th>1</th>\n",
       "      <td>0.154200</td>\n",
       "      <td>0.162913</td>\n",
       "      <td>0.061809</td>\n",
       "      <td>0.017641</td>\n",
       "      <td>0.145686</td>\n",
       "      <td>0</td>\n",
       "      <td>1</td>\n",
       "      <td>0</td>\n",
       "      <td>0</td>\n",
       "      <td>1</td>\n",
       "    </tr>\n",
       "    <tr>\n",
       "      <th>2</th>\n",
       "      <td>0.134369</td>\n",
       "      <td>0.131008</td>\n",
       "      <td>0.057596</td>\n",
       "      <td>0.027222</td>\n",
       "      <td>0.177402</td>\n",
       "      <td>0</td>\n",
       "      <td>1</td>\n",
       "      <td>0</td>\n",
       "      <td>0</td>\n",
       "      <td>1</td>\n",
       "    </tr>\n",
       "    <tr>\n",
       "      <th>3</th>\n",
       "      <td>0.185977</td>\n",
       "      <td>0.068172</td>\n",
       "      <td>0.045904</td>\n",
       "      <td>0.018430</td>\n",
       "      <td>0.205039</td>\n",
       "      <td>1</td>\n",
       "      <td>1</td>\n",
       "      <td>0</td>\n",
       "      <td>0</td>\n",
       "      <td>1</td>\n",
       "    </tr>\n",
       "    <tr>\n",
       "      <th>4</th>\n",
       "      <td>0.177835</td>\n",
       "      <td>0.042975</td>\n",
       "      <td>0.031071</td>\n",
       "      <td>0.039012</td>\n",
       "      <td>0.226750</td>\n",
       "      <td>1</td>\n",
       "      <td>0</td>\n",
       "      <td>0</td>\n",
       "      <td>1</td>\n",
       "      <td>1</td>\n",
       "    </tr>\n",
       "    <tr>\n",
       "      <th>...</th>\n",
       "      <td>...</td>\n",
       "      <td>...</td>\n",
       "      <td>...</td>\n",
       "      <td>...</td>\n",
       "      <td>...</td>\n",
       "      <td>...</td>\n",
       "      <td>...</td>\n",
       "      <td>...</td>\n",
       "      <td>...</td>\n",
       "      <td>...</td>\n",
       "    </tr>\n",
       "    <tr>\n",
       "      <th>283</th>\n",
       "      <td>0.132210</td>\n",
       "      <td>0.045497</td>\n",
       "      <td>0.098556</td>\n",
       "      <td>0.030217</td>\n",
       "      <td>0.182622</td>\n",
       "      <td>0</td>\n",
       "      <td>0</td>\n",
       "      <td>1</td>\n",
       "      <td>0</td>\n",
       "      <td>1</td>\n",
       "    </tr>\n",
       "    <tr>\n",
       "      <th>284</th>\n",
       "      <td>0.182335</td>\n",
       "      <td>0.101294</td>\n",
       "      <td>0.124704</td>\n",
       "      <td>0.031984</td>\n",
       "      <td>0.111595</td>\n",
       "      <td>1</td>\n",
       "      <td>1</td>\n",
       "      <td>1</td>\n",
       "      <td>0</td>\n",
       "      <td>0</td>\n",
       "    </tr>\n",
       "    <tr>\n",
       "      <th>285</th>\n",
       "      <td>0.180883</td>\n",
       "      <td>0.061389</td>\n",
       "      <td>0.067752</td>\n",
       "      <td>0.044968</td>\n",
       "      <td>0.119976</td>\n",
       "      <td>1</td>\n",
       "      <td>1</td>\n",
       "      <td>1</td>\n",
       "      <td>1</td>\n",
       "      <td>0</td>\n",
       "    </tr>\n",
       "    <tr>\n",
       "      <th>286</th>\n",
       "      <td>0.129512</td>\n",
       "      <td>0.043418</td>\n",
       "      <td>0.087818</td>\n",
       "      <td>0.033160</td>\n",
       "      <td>0.161766</td>\n",
       "      <td>0</td>\n",
       "      <td>0</td>\n",
       "      <td>1</td>\n",
       "      <td>0</td>\n",
       "      <td>1</td>\n",
       "    </tr>\n",
       "    <tr>\n",
       "      <th>287</th>\n",
       "      <td>0.187634</td>\n",
       "      <td>0.081746</td>\n",
       "      <td>0.017056</td>\n",
       "      <td>0.021080</td>\n",
       "      <td>0.114416</td>\n",
       "      <td>1</td>\n",
       "      <td>1</td>\n",
       "      <td>0</td>\n",
       "      <td>0</td>\n",
       "      <td>0</td>\n",
       "    </tr>\n",
       "  </tbody>\n",
       "</table>\n",
       "<p>288 rows × 10 columns</p>\n",
       "</div>"
      ],
      "text/plain": [
       "      sadness     anger      fear   disgust       joy  sadness_dich  \\\n",
       "0    0.162649  0.137207  0.065900  0.014342  0.178080             1   \n",
       "1    0.154200  0.162913  0.061809  0.017641  0.145686             0   \n",
       "2    0.134369  0.131008  0.057596  0.027222  0.177402             0   \n",
       "3    0.185977  0.068172  0.045904  0.018430  0.205039             1   \n",
       "4    0.177835  0.042975  0.031071  0.039012  0.226750             1   \n",
       "..        ...       ...       ...       ...       ...           ...   \n",
       "283  0.132210  0.045497  0.098556  0.030217  0.182622             0   \n",
       "284  0.182335  0.101294  0.124704  0.031984  0.111595             1   \n",
       "285  0.180883  0.061389  0.067752  0.044968  0.119976             1   \n",
       "286  0.129512  0.043418  0.087818  0.033160  0.161766             0   \n",
       "287  0.187634  0.081746  0.017056  0.021080  0.114416             1   \n",
       "\n",
       "     anger_dich  fear_dich  disgust_dich  joy_dich  \n",
       "0             1          1             0         1  \n",
       "1             1          0             0         1  \n",
       "2             1          0             0         1  \n",
       "3             1          0             0         1  \n",
       "4             0          0             1         1  \n",
       "..          ...        ...           ...       ...  \n",
       "283           0          1             0         1  \n",
       "284           1          1             0         0  \n",
       "285           1          1             1         0  \n",
       "286           0          1             0         1  \n",
       "287           1          0             0         0  \n",
       "\n",
       "[288 rows x 10 columns]"
      ]
     },
     "execution_count": 58,
     "metadata": {
     },
     "output_type": "execute_result"
    }
   ],
   "source": [
    "#Import the dataset\n",
    "dataset = pd.read_csv('earthquakedata_dich.csv', encoding='utf-8')\n",
    "\n",
    "#Print dataset\n",
    "dataset"
   ]
  },
  {
   "cell_type": "markdown",
   "metadata": {
    "collapsed": false
   },
   "source": [
    "**Step 2**\n",
    "\n",
    "The package dit has defined functions to compute the intrinsic mutual information (IMI), the time-delayed mutual information, and the transfer entropy. Shared and synergistic flows are defined using algebra and the previous measures."
   ]
  },
  {
   "cell_type": "code",
   "execution_count": 59,
   "metadata": {
    "collapsed": false
   },
   "outputs": [
   ],
   "source": [
    "#Definition of the tuple to save the Modes of Information Flow\n",
    "Flows = namedtuple('Flows', ['intrinsic', 'shared', 'synergistic'])\n",
    "\n",
    "#Function to compute the Modes of Information Flow\n",
    "def get_flows(ts, length):\n",
    "\n",
    "    d = dist_from_timeseries(ts, history_length=length)\n",
    "\n",
    "    i_past, j_past, i_pres, j_pres = [0], [1], [2], [3]\n",
    "\n",
    "    intrinsic = IMI(d, [i_past, j_pres], j_past)\n",
    "    shared = I(d, [i_past, j_pres]) - intrinsic\n",
    "    synergistic = I(d, [i_past, j_pres], j_past) - intrinsic\n",
    "\n",
    "    return Flows(intrinsic, shared, synergistic)"
   ]
  },
  {
   "cell_type": "code",
   "execution_count": 60,
   "metadata": {
    "collapsed": false
   },
   "outputs": [
    {
     "data": {
      "text/plain": [
       "(288, 5)"
      ]
     },
     "execution_count": 60,
     "metadata": {
     },
     "output_type": "execute_result"
    }
   ],
   "source": [
    "#Creation of numpy array to compute flows of information\n",
    "emotions = dataset[['sadness_dich','anger_dich','fear_dich','disgust_dich', 'joy_dich']].to_numpy()\n",
    "\n",
    "#Checking shape of new dataset\n",
    "np.shape(emotions)"
   ]
  },
  {
   "cell_type": "code",
   "execution_count": 61,
   "metadata": {
    "collapsed": false
   },
   "outputs": [
   ],
   "source": [
    "#Creation of the list of all possible permutations to compute all pairwise information flows for the five emotions\n",
    "# 0=sadness, 1=anger, 2=fear, 3=disgust, 4=joy\n",
    "a = [0, 1, 2, 3, 4]\n",
    "perms = list(permutations(a,2))"
   ]
  },
  {
   "cell_type": "code",
   "execution_count": 62,
   "metadata": {
    "collapsed": false
   },
   "outputs": [
   ],
   "source": [
    "#Computation of all flows of information\n",
    "intrinsic_calc = []\n",
    "shared_calc = []\n",
    "synergistic_calc = []\n",
    "\n",
    "#For cycle for all the pairwise information flows\n",
    "for pair in perms:\n",
    "    timeseries = emotions[:,pair]\n",
    "    flows = get_flows(timeseries, 1)\n",
    "    intrinsic_calc.append(flows[0])\n",
    "    shared_calc.append(flows[1])\n",
    "    synergistic_calc.append(flows[2])"
   ]
  },
  {
   "cell_type": "markdown",
   "metadata": {
    "collapsed": false
   },
   "source": [
    "**Step 3**\n",
    "\n",
    "Here we calculate all the pairwise modes of information flow."
   ]
  },
  {
   "cell_type": "code",
   "execution_count": 63,
   "metadata": {
    "collapsed": false
   },
   "outputs": [
    {
     "data": {
      "text/html": [
       "<div>\n",
       "<style scoped>\n",
       "    .dataframe tbody tr th:only-of-type {\n",
       "        vertical-align: middle;\n",
       "    }\n",
       "\n",
       "    .dataframe tbody tr th {\n",
       "        vertical-align: top;\n",
       "    }\n",
       "\n",
       "    .dataframe thead th {\n",
       "        text-align: right;\n",
       "    }\n",
       "</style>\n",
       "<table border=\"1\" class=\"dataframe\">\n",
       "  <thead>\n",
       "    <tr style=\"text-align: right;\">\n",
       "      <th></th>\n",
       "      <th>Pairs</th>\n",
       "      <th>Intrinsic</th>\n",
       "      <th>Shared</th>\n",
       "      <th>Synergistic</th>\n",
       "    </tr>\n",
       "  </thead>\n",
       "  <tbody>\n",
       "    <tr>\n",
       "      <th>0</th>\n",
       "      <td>(0, 1)</td>\n",
       "      <td>0.000219</td>\n",
       "      <td>0.000000e+00</td>\n",
       "      <td>5.933463e-04</td>\n",
       "    </tr>\n",
       "    <tr>\n",
       "      <th>1</th>\n",
       "      <td>(0, 2)</td>\n",
       "      <td>0.032841</td>\n",
       "      <td>2.220446e-16</td>\n",
       "      <td>1.542320e-02</td>\n",
       "    </tr>\n",
       "    <tr>\n",
       "      <th>2</th>\n",
       "      <td>(0, 3)</td>\n",
       "      <td>0.001481</td>\n",
       "      <td>0.000000e+00</td>\n",
       "      <td>8.657495e-04</td>\n",
       "    </tr>\n",
       "    <tr>\n",
       "      <th>3</th>\n",
       "      <td>(0, 4)</td>\n",
       "      <td>0.006392</td>\n",
       "      <td>0.000000e+00</td>\n",
       "      <td>4.478007e-03</td>\n",
       "    </tr>\n",
       "    <tr>\n",
       "      <th>4</th>\n",
       "      <td>(1, 0)</td>\n",
       "      <td>0.000219</td>\n",
       "      <td>0.000000e+00</td>\n",
       "      <td>7.370048e-04</td>\n",
       "    </tr>\n",
       "    <tr>\n",
       "      <th>5</th>\n",
       "      <td>(1, 2)</td>\n",
       "      <td>0.003839</td>\n",
       "      <td>4.591370e-03</td>\n",
       "      <td>-1.110223e-16</td>\n",
       "    </tr>\n",
       "    <tr>\n",
       "      <th>6</th>\n",
       "      <td>(1, 3)</td>\n",
       "      <td>0.000079</td>\n",
       "      <td>2.220446e-16</td>\n",
       "      <td>5.636770e-03</td>\n",
       "    </tr>\n",
       "    <tr>\n",
       "      <th>7</th>\n",
       "      <td>(1, 4)</td>\n",
       "      <td>0.000009</td>\n",
       "      <td>-2.220446e-16</td>\n",
       "      <td>6.649098e-04</td>\n",
       "    </tr>\n",
       "    <tr>\n",
       "      <th>8</th>\n",
       "      <td>(2, 0)</td>\n",
       "      <td>0.013359</td>\n",
       "      <td>0.000000e+00</td>\n",
       "      <td>2.471128e-02</td>\n",
       "    </tr>\n",
       "    <tr>\n",
       "      <th>9</th>\n",
       "      <td>(2, 1)</td>\n",
       "      <td>0.006351</td>\n",
       "      <td>3.209198e-03</td>\n",
       "      <td>-1.110223e-16</td>\n",
       "    </tr>\n",
       "    <tr>\n",
       "      <th>10</th>\n",
       "      <td>(2, 3)</td>\n",
       "      <td>0.000009</td>\n",
       "      <td>2.220446e-16</td>\n",
       "      <td>1.113887e-02</td>\n",
       "    </tr>\n",
       "    <tr>\n",
       "      <th>11</th>\n",
       "      <td>(2, 4)</td>\n",
       "      <td>0.018255</td>\n",
       "      <td>8.398211e-03</td>\n",
       "      <td>1.261866e-04</td>\n",
       "    </tr>\n",
       "    <tr>\n",
       "      <th>12</th>\n",
       "      <td>(3, 0)</td>\n",
       "      <td>0.013287</td>\n",
       "      <td>4.523547e-03</td>\n",
       "      <td>-1.110223e-16</td>\n",
       "    </tr>\n",
       "    <tr>\n",
       "      <th>13</th>\n",
       "      <td>(3, 1)</td>\n",
       "      <td>0.000710</td>\n",
       "      <td>-2.220446e-16</td>\n",
       "      <td>9.382345e-05</td>\n",
       "    </tr>\n",
       "    <tr>\n",
       "      <th>14</th>\n",
       "      <td>(3, 2)</td>\n",
       "      <td>0.006851</td>\n",
       "      <td>1.579307e-03</td>\n",
       "      <td>1.235155e-03</td>\n",
       "    </tr>\n",
       "    <tr>\n",
       "      <th>15</th>\n",
       "      <td>(3, 4)</td>\n",
       "      <td>0.005482</td>\n",
       "      <td>-4.440892e-16</td>\n",
       "      <td>2.654533e-03</td>\n",
       "    </tr>\n",
       "    <tr>\n",
       "      <th>16</th>\n",
       "      <td>(4, 0)</td>\n",
       "      <td>0.017811</td>\n",
       "      <td>-1.249001e-16</td>\n",
       "      <td>3.519902e-02</td>\n",
       "    </tr>\n",
       "    <tr>\n",
       "      <th>17</th>\n",
       "      <td>(4, 1)</td>\n",
       "      <td>0.000009</td>\n",
       "      <td>-3.203428e-16</td>\n",
       "      <td>4.651767e-04</td>\n",
       "    </tr>\n",
       "    <tr>\n",
       "      <th>18</th>\n",
       "      <td>(4, 2)</td>\n",
       "      <td>0.014013</td>\n",
       "      <td>8.884119e-03</td>\n",
       "      <td>5.634006e-04</td>\n",
       "    </tr>\n",
       "    <tr>\n",
       "      <th>19</th>\n",
       "      <td>(4, 3)</td>\n",
       "      <td>0.010753</td>\n",
       "      <td>-2.220446e-16</td>\n",
       "      <td>5.687911e-03</td>\n",
       "    </tr>\n",
       "  </tbody>\n",
       "</table>\n",
       "</div>"
      ],
      "text/plain": [
       "     Pairs  Intrinsic        Shared   Synergistic\n",
       "0   (0, 1)   0.000219  0.000000e+00  5.933463e-04\n",
       "1   (0, 2)   0.032841  2.220446e-16  1.542320e-02\n",
       "2   (0, 3)   0.001481  0.000000e+00  8.657495e-04\n",
       "3   (0, 4)   0.006392  0.000000e+00  4.478007e-03\n",
       "4   (1, 0)   0.000219  0.000000e+00  7.370048e-04\n",
       "5   (1, 2)   0.003839  4.591370e-03 -1.110223e-16\n",
       "6   (1, 3)   0.000079  2.220446e-16  5.636770e-03\n",
       "7   (1, 4)   0.000009 -2.220446e-16  6.649098e-04\n",
       "8   (2, 0)   0.013359  0.000000e+00  2.471128e-02\n",
       "9   (2, 1)   0.006351  3.209198e-03 -1.110223e-16\n",
       "10  (2, 3)   0.000009  2.220446e-16  1.113887e-02\n",
       "11  (2, 4)   0.018255  8.398211e-03  1.261866e-04\n",
       "12  (3, 0)   0.013287  4.523547e-03 -1.110223e-16\n",
       "13  (3, 1)   0.000710 -2.220446e-16  9.382345e-05\n",
       "14  (3, 2)   0.006851  1.579307e-03  1.235155e-03\n",
       "15  (3, 4)   0.005482 -4.440892e-16  2.654533e-03\n",
       "16  (4, 0)   0.017811 -1.249001e-16  3.519902e-02\n",
       "17  (4, 1)   0.000009 -3.203428e-16  4.651767e-04\n",
       "18  (4, 2)   0.014013  8.884119e-03  5.634006e-04\n",
       "19  (4, 3)   0.010753 -2.220446e-16  5.687911e-03"
      ]
     },
     "execution_count": 63,
     "metadata": {
     },
     "output_type": "execute_result"
    }
   ],
   "source": [
    "#Calculation of Modes of Information Flow\n",
    "df = pd.DataFrame({'Pairs':perms, 'Intrinsic':intrinsic_calc, 'Shared':shared_calc, 'Synergistic':synergistic_calc})\n",
    "\n",
    "#If you want to save the results\n",
    "#df.to_csv('results.csv')\n",
    "df"
   ]
  },
  {
   "cell_type": "markdown",
   "metadata": {
    "collapsed": false
   },
   "source": [
    "**Step 4**\n",
    "\n",
    "Finally to have a visual perspective we plot the modes of information flow for the five emotions."
   ]
  },
  {
   "cell_type": "code",
   "execution_count": 64,
   "metadata": {
    "collapsed": false
   },
   "outputs": [
   ],
   "source": [
    "#Extraction of Sadness data\n",
    "x_int_sadness = list(df['Intrinsic'][0:4])\n",
    "y_int_sadness = [df['Intrinsic'][4],df['Intrinsic'][8],df['Intrinsic'][12],df['Intrinsic'][16]]\n",
    "x_shared_sadness = list(df['Shared'][0:4])\n",
    "y_shared_sadness = [df['Shared'][4],df['Shared'][8],df['Shared'][12],df['Shared'][16]]\n",
    "x_synergistic_sadness = list(df['Synergistic'][0:4])\n",
    "y_synergistic_sadness = [df['Synergistic'][4],df['Synergistic'][8],df['Synergistic'][12],df['Synergistic'][16]]"
   ]
  },
  {
   "cell_type": "code",
   "execution_count": 65,
   "metadata": {
    "collapsed": false
   },
   "outputs": [
    {
     "data": {
      "image/png": "[encoded data removed]",
      "text/plain": [
       "<Figure size 864x360 with 3 Axes>"
      ]
     },
     "execution_count": 65,
     "metadata": {
     },
     "output_type": "execute_result"
    }
   ],
   "source": [
    "#Plots of Sadness\n",
    "\n",
    "plt.style.use('seaborn-whitegrid')\n",
    "#plt.figure(figsize=(10,5))\n",
    "\n",
    "n = ['A','F','D','J']\n",
    "\n",
    "fig, (ax1, ax2, ax3) = plt.subplots(1, 3, sharex = True, sharey = True, figsize=(12,5))\n",
    "\n",
    "fig.text(0.5, 0.04, r'$Sadness \\rightarrow *$', ha='center', va='center', fontsize=20)\n",
    "fig.text(0.06, 0.5, r'$* \\rightarrow Sadness$', ha='center', va='center', rotation='vertical', fontsize=20)\n",
    "\n",
    "ax1.title.set_text('Intrinsic')\n",
    "ax1.title.set_color('red')\n",
    "ax1.title.set_fontsize(20)\n",
    "ax1.scatter(x_int_sadness, y_int_sadness, color='red')\n",
    "ax1.axes.xaxis.set_ticklabels([])\n",
    "ax1.axes.yaxis.set_ticklabels([])\n",
    "for i, txt in enumerate(n):\n",
    "    ax1.annotate(txt, (x_int_sadness[i], y_int_sadness[i]))\n",
    "\n",
    "ax2.title.set_text('Shared')\n",
    "ax2.title.set_color('green')\n",
    "ax2.title.set_fontsize(20)\n",
    "ax2.scatter(x_shared_sadness, y_shared_sadness, color='green')\n",
    "for i, txt in enumerate(n):\n",
    "    ax2.annotate(txt, (x_shared_sadness[i], y_shared_sadness[i]))\n",
    "\n",
    "ax3.title.set_text('Synergistic')\n",
    "ax3.title.set_color('blue')\n",
    "ax3.title.set_fontsize(20)\n",
    "ax3.scatter(x_synergistic_sadness, y_synergistic_sadness, color='blue')\n",
    "for i, txt in enumerate(n):\n",
    "    ax3.annotate(txt, (x_synergistic_sadness[i], y_synergistic_sadness[i]))\n",
    "\n",
    "plt.show()"
   ]
  },
  {
   "cell_type": "code",
   "execution_count": 66,
   "metadata": {
    "collapsed": false
   },
   "outputs": [
   ],
   "source": [
    "#Extraction of Anger data\n",
    "x_int_anger = list(df['Intrinsic'][4:8])\n",
    "y_int_anger = [df['Intrinsic'][0],df['Intrinsic'][9],df['Intrinsic'][13],df['Intrinsic'][17]]\n",
    "x_shared_anger = list(df['Shared'][4:8])\n",
    "y_shared_anger = [df['Shared'][0],df['Shared'][9],df['Shared'][13],df['Shared'][17]]\n",
    "x_synergistic_anger = list(df['Synergistic'][4:8])\n",
    "y_synergistic_anger = [df['Synergistic'][0],df['Synergistic'][9],df['Synergistic'][13],df['Synergistic'][17]]"
   ]
  },
  {
   "cell_type": "code",
   "execution_count": 67,
   "metadata": {
    "collapsed": false,
    "scrolled": true
   },
   "outputs": [
    {
     "data": {
      "image/png": "[encoded data removed]",
      "text/plain": [
       "<Figure size 864x360 with 3 Axes>"
      ]
     },
     "execution_count": 67,
     "metadata": {
     },
     "output_type": "execute_result"
    }
   ],
   "source": [
    "#Plots of Anger\n",
    "plt.style.use('seaborn-whitegrid')\n",
    "\n",
    "n = ['S','F','D','J']\n",
    "\n",
    "fig, (ax1, ax2, ax3) = plt.subplots(1, 3, sharex = True, sharey = True, figsize=(12,5))\n",
    "\n",
    "fig.text(0.5, 0.04, r'$Anger \\rightarrow *$', ha='center', va='center', fontsize=20)\n",
    "fig.text(0.06, 0.5, r'$* \\rightarrow Anger$', ha='center', va='center', rotation='vertical', fontsize=20)\n",
    "\n",
    "ax1.title.set_text('Intrinsic')\n",
    "ax1.title.set_color('red')\n",
    "ax1.title.set_fontsize(20)\n",
    "ax1.scatter(x_int_anger, y_int_anger, color='red')\n",
    "ax1.axes.xaxis.set_ticklabels([])\n",
    "ax1.axes.yaxis.set_ticklabels([])\n",
    "for i, txt in enumerate(n):\n",
    "    ax1.annotate(txt, (x_int_anger[i], y_int_anger[i]))\n",
    "\n",
    "ax2.title.set_text('Shared')\n",
    "ax2.title.set_color('green')\n",
    "ax2.title.set_fontsize(20)\n",
    "ax2.scatter(x_shared_anger, y_shared_anger, color='green')\n",
    "for i, txt in enumerate(n):\n",
    "    ax2.annotate(txt, (x_shared_anger[i], y_shared_anger[i]))\n",
    "\n",
    "ax3.title.set_text('Synergistic')\n",
    "ax3.title.set_color('blue')\n",
    "ax3.title.set_fontsize(20)\n",
    "ax3.scatter(x_synergistic_anger, y_synergistic_anger, color='blue')\n",
    "for i, txt in enumerate(n):\n",
    "    ax3.annotate(txt, (x_synergistic_anger[i], y_synergistic_anger[i]))\n",
    "\n",
    "plt.show()"
   ]
  },
  {
   "cell_type": "code",
   "execution_count": 68,
   "metadata": {
    "collapsed": false
   },
   "outputs": [
   ],
   "source": [
    "#Extraction of Fear data\n",
    "x_int_fear = list(df['Intrinsic'][8:12])\n",
    "y_int_fear = [df['Intrinsic'][1],df['Intrinsic'][5],df['Intrinsic'][14],df['Intrinsic'][18]]\n",
    "x_shared_fear = list(df['Shared'][8:12])\n",
    "y_shared_fear = [df['Shared'][1],df['Shared'][5],df['Shared'][14],df['Shared'][18]]\n",
    "x_synergistic_fear = list(df['Synergistic'][8:12])\n",
    "y_synergistic_fear = [df['Synergistic'][1],df['Synergistic'][5],df['Synergistic'][14],df['Synergistic'][18]]"
   ]
  },
  {
   "cell_type": "code",
   "execution_count": 69,
   "metadata": {
    "collapsed": false
   },
   "outputs": [
    {
     "data": {
      "image/png": "[encoded data removed]",
      "text/plain": [
       "<Figure size 864x360 with 3 Axes>"
      ]
     },
     "execution_count": 69,
     "metadata": {
     },
     "output_type": "execute_result"
    }
   ],
   "source": [
    "#Fear plots\n",
    "\n",
    "plt.style.use('seaborn-whitegrid')\n",
    "\n",
    "n = ['S','A','D','J']\n",
    "\n",
    "fig, (ax1, ax2, ax3) = plt.subplots(1, 3, sharex = True, sharey = True, figsize=(12,5))\n",
    "\n",
    "fig.text(0.5, 0.04, r'$Fear \\rightarrow *$', ha='center', va='center', fontsize=20)\n",
    "fig.text(0.06, 0.5, r'$* \\rightarrow Fear$', ha='center', va='center', rotation='vertical', fontsize=20)\n",
    "\n",
    "ax1.title.set_text('Intrinsic')\n",
    "ax1.title.set_color('red')\n",
    "ax1.title.set_fontsize(20)\n",
    "ax1.scatter(x_int_fear, y_int_fear, color='red')\n",
    "ax1.axes.xaxis.set_ticklabels([])\n",
    "ax1.axes.yaxis.set_ticklabels([])\n",
    "for i, txt in enumerate(n):\n",
    "    ax1.annotate(txt, (x_int_fear[i], y_int_fear[i]))\n",
    "\n",
    "ax2.title.set_text('Shared')\n",
    "ax2.title.set_color('green')\n",
    "ax2.title.set_fontsize(20)\n",
    "ax2.scatter(x_shared_fear, y_shared_fear, color='green')\n",
    "for i, txt in enumerate(n):\n",
    "    ax2.annotate(txt, (x_shared_fear[i], y_shared_fear[i]))\n",
    "\n",
    "ax3.title.set_text('Synergistic')\n",
    "ax3.title.set_color('blue')\n",
    "ax3.title.set_fontsize(20)\n",
    "ax3.scatter(x_synergistic_fear, y_synergistic_fear, color='blue')\n",
    "for i, txt in enumerate(n):\n",
    "    ax3.annotate(txt, (x_synergistic_fear[i], y_synergistic_fear[i]))\n",
    "\n",
    "plt.show()"
   ]
  },
  {
   "cell_type": "code",
   "execution_count": 70,
   "metadata": {
    "collapsed": false
   },
   "outputs": [
   ],
   "source": [
    "#Extraction of Disgust data\n",
    "x_int_disgust = list(df['Intrinsic'][12:16])\n",
    "y_int_disgust = [df['Intrinsic'][2],df['Intrinsic'][6],df['Intrinsic'][10],df['Intrinsic'][19]]\n",
    "x_shared_disgust = list(df['Shared'][12:16])\n",
    "y_shared_disgust = [df['Shared'][2],df['Shared'][6],df['Shared'][10],df['Shared'][19]]\n",
    "x_synergistic_disgust = list(df['Synergistic'][12:16])\n",
    "y_synergistic_disgust = [df['Synergistic'][2],df['Synergistic'][6],df['Synergistic'][10],df['Synergistic'][19]]"
   ]
  },
  {
   "cell_type": "code",
   "execution_count": 71,
   "metadata": {
    "collapsed": false
   },
   "outputs": [
    {
     "data": {
      "image/png": "[encoded data removed]",
      "text/plain": [
       "<Figure size 864x360 with 3 Axes>"
      ]
     },
     "execution_count": 71,
     "metadata": {
     },
     "output_type": "execute_result"
    }
   ],
   "source": [
    "#Plots of Disgust\n",
    "\n",
    "plt.style.use('seaborn-whitegrid')\n",
    "\n",
    "n = ['S','A','F','J']\n",
    "\n",
    "fig, (ax1, ax2, ax3) = plt.subplots(1, 3, sharex = True, sharey = True, figsize=(12,5))\n",
    "\n",
    "fig.text(0.5, 0.04, r'$Disgust \\rightarrow *$', ha='center', va='center', fontsize=20)\n",
    "fig.text(0.06, 0.5, r'$* \\rightarrow Disgust$', ha='center', va='center', rotation='vertical', fontsize=20)\n",
    "\n",
    "ax1.title.set_text('Intrinsic')\n",
    "ax1.title.set_color('red')\n",
    "ax1.title.set_fontsize(20)\n",
    "ax1.scatter(x_int_disgust, y_int_disgust, color='red')\n",
    "ax1.axes.xaxis.set_ticklabels([])\n",
    "ax1.axes.yaxis.set_ticklabels([])\n",
    "for i, txt in enumerate(n):\n",
    "    ax1.annotate(txt, (x_int_disgust[i], y_int_disgust[i]))\n",
    "\n",
    "ax2.title.set_text('Shared')\n",
    "ax2.title.set_color('green')\n",
    "ax2.title.set_fontsize(20)\n",
    "ax2.scatter(x_shared_disgust, y_shared_disgust, color='green')\n",
    "for i, txt in enumerate(n):\n",
    "    ax2.annotate(txt, (x_shared_disgust[i], y_shared_disgust[i]))\n",
    "\n",
    "ax3.title.set_text('Synergistic')\n",
    "ax3.title.set_color('blue')\n",
    "ax3.title.set_fontsize(20)\n",
    "ax3.scatter(x_synergistic_disgust, y_synergistic_disgust, color='blue')\n",
    "for i, txt in enumerate(n):\n",
    "    ax3.annotate(txt, (x_synergistic_disgust[i], y_synergistic_disgust[i]))\n",
    "\n",
    "plt.show()"
   ]
  },
  {
   "cell_type": "code",
   "execution_count": 72,
   "metadata": {
    "collapsed": false
   },
   "outputs": [
   ],
   "source": [
    "#Extraction of Joy data\n",
    "x_int_joy = list(df['Intrinsic'][16:20])\n",
    "y_int_joy = [df['Intrinsic'][3],df['Intrinsic'][7],df['Intrinsic'][11],df['Intrinsic'][15]]\n",
    "x_shared_joy = list(df['Shared'][16:20])\n",
    "y_shared_joy = [df['Shared'][3],df['Shared'][7],df['Shared'][11],df['Shared'][15]]\n",
    "x_synergistic_joy = list(df['Synergistic'][16:20])\n",
    "y_synergistic_joy = [df['Synergistic'][3],df['Synergistic'][7],df['Synergistic'][11],df['Synergistic'][15]]"
   ]
  },
  {
   "cell_type": "code",
   "execution_count": 73,
   "metadata": {
    "collapsed": false
   },
   "outputs": [
    {
     "data": {
      "image/png": "[encoded data removed]",
      "text/plain": [
       "<Figure size 864x360 with 3 Axes>"
      ]
     },
     "execution_count": 73,
     "metadata": {
     },
     "output_type": "execute_result"
    }
   ],
   "source": [
    "#Plots of Joy\n",
    "\n",
    "plt.style.use('seaborn-whitegrid')\n",
    "\n",
    "n = ['S','A','F','D']\n",
    "\n",
    "fig, (ax1, ax2, ax3) = plt.subplots(1, 3, sharex = True, sharey = True, figsize=(12,5))\n",
    "\n",
    "fig.text(0.5, 0.04, r'$Joy \\rightarrow *$', ha='center', va='center', fontsize=20)\n",
    "fig.text(0.06, 0.5, r'$* \\rightarrow Joy$', ha='center', va='center', rotation='vertical', fontsize=20)\n",
    "\n",
    "ax1.title.set_text('Intrinsic')\n",
    "ax1.title.set_color('red')\n",
    "ax1.title.set_fontsize(20)\n",
    "ax1.scatter(x_int_joy, y_int_joy, color='red')\n",
    "ax1.axes.xaxis.set_ticklabels([])\n",
    "ax1.axes.yaxis.set_ticklabels([])\n",
    "for i, txt in enumerate(n):\n",
    "    ax1.annotate(txt, (x_int_joy[i], y_int_joy[i]))\n",
    "\n",
    "ax2.title.set_text('Shared')\n",
    "ax2.title.set_color('green')\n",
    "ax2.title.set_fontsize(20)\n",
    "ax2.scatter(x_shared_joy, y_shared_joy, color='green')\n",
    "for i, txt in enumerate(n):\n",
    "    ax2.annotate(txt, (x_shared_joy[i], y_shared_joy[i]))\n",
    "\n",
    "ax3.title.set_text('Synergistic')\n",
    "ax3.title.set_color('blue')\n",
    "ax3.title.set_fontsize(20)\n",
    "ax3.scatter(x_synergistic_joy, y_synergistic_joy, color='blue')\n",
    "for i, txt in enumerate(n):\n",
    "    ax3.annotate(txt, (x_synergistic_joy[i], y_synergistic_joy[i]))\n",
    "\n",
    "plt.show()"
   ]
  }
 ],
 "metadata": {
  "kernelspec": {
   "display_name": "Python 3",
   "language": "python",
   "name": "python3",
   "resource_dir": "/srv/conda/envs/notebook/share/jupyter/kernels/python3"
  },
  "language_info": {
   "codemirror_mode": {
    "name": "ipython",
    "version": 3
   },
   "file_extension": ".py",
   "mimetype": "text/x-python",
   "name": "python",
   "nbconvert_exporter": "python",
   "pygments_lexer": "ipython3",
   "version": "3.7.6"
  }
 },
 "nbformat": 4,
 "nbformat_minor": 4
}